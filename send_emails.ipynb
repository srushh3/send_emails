{
 "cells": [
  {
   "cell_type": "code",
   "execution_count": 3,
   "id": "5a070008",
   "metadata": {},
   "outputs": [],
   "source": [
    "import smtplib\n",
    "import datetime\n",
    "import email\n",
    "import mimetypes\n",
    "from email.mime.multipart import MIMEMultipart\n",
    "from email.mime.base import MIMEBase\n",
    "from email.mime.text import MIMEText\n",
    "from email import encoders\n",
    "import time\n",
    "\n",
    "def send_email_with_attachment(recipients, subject, message_body, attachment_path, sender_email, sender_password):\n",
    "   \n",
    "    server = smtplib.SMTP('smtp.gmail.com', 587)\n",
    "    server.starttls()\n",
    "    server.login(sender_email, sender_password)\n",
    "    \n",
    "    \n",
    "    message = MIMEMultipart()\n",
    "    message['From'] = sender_email\n",
    "    message['To'] = \", \".join(recipients)\n",
    "    message['Subject'] = subject\n",
    "    message.attach(MIMEText(message_body))\n",
    "    \n",
    "    attachment_file = open(attachment_path, 'rb')\n",
    "    mime_type, _ = mimetypes.guess_type(attachment_path)\n",
    "    mime_type = mime_type.split('/')\n",
    "    attachment.set_payload(attachment_file.read())\n",
    "    encoders.encode_base64(attachment)\n",
    "    attachment.add_header('Content-Disposition', f'attachment; filename=\"{attachment_path}\"')\n",
    "    message.attach(attachment)\n",
    "    \n",
    "    server.sendmail(sender_email, recipients, message.as_string())\n",
    "    server.quit()\n",
    "\n",
    "def send_daily_emails_with_attachment(recipients, subject, message, attachment_path, sender_email, sender_password):\n",
    "    # Set the time for the daily email to be sent (10 AM)\n",
    "    send_time = datetime.time(hour=10, minute=0)\n",
    "    \n",
    "    \n",
    "    while True:\n",
    "       \n",
    "        current_time = datetime.datetime.now().time()\n",
    "        \n",
    "        if current_time.hour == send_time.hour and current_time.minute == send_time.minute:\n",
    "           \n",
    "            send_email_with_attachment(recipients, subject, message, attachment_path, sender_email, sender_password)\n",
    "            \n",
    "            tomorrow = datetime.date.today() + datetime.timedelta(days=1)\n",
    "            send_time = datetime.datetime.combine(tomorrow, send_time)\n",
    "            time_diff = (send_time - datetime.datetime.now()).total_seconds()\n",
    "            time.sleep(time_diff)\n"
   ]
  },
  {
   "cell_type": "code",
   "execution_count": 4,
   "id": "6facb5c1",
   "metadata": {},
   "outputs": [],
   "source": [
    "recipients = ['xyz@gmail.com', 'abc@gmail.com', 'mno@gmail.com', 'fgh@gmail.com']\n",
    "subject = 'Daily Email with Attachment'\n",
    "message = 'Hello,\\n\\nThis is your daily email with attachment.'\n",
    "attachment_path = \"hi.csv\"\n",
    "sender_email = 'sender@gmail.com'\n",
    "sender_password = 'sender_pass'\n",
    "\n",
    "send_email_with_attachment(recipients, subject, message, attachment_path, sender_email, sender_password)\n"
   ]
  },
  {
   "cell_type": "code",
   "execution_count": null,
   "id": "babac4ef",
   "metadata": {},
   "outputs": [],
   "source": []
  }
 ],
 "metadata": {
  "kernelspec": {
   "display_name": "Python 3 (ipykernel)",
   "language": "python",
   "name": "python3"
  },
  "language_info": {
   "codemirror_mode": {
    "name": "ipython",
    "version": 3
   },
   "file_extension": ".py",
   "mimetype": "text/x-python",
   "name": "python",
   "nbconvert_exporter": "python",
   "pygments_lexer": "ipython3",
   "version": "3.11.2"
  }
 },
 "nbformat": 4,
 "nbformat_minor": 5
}
